{
 "cells": [
  {
   "cell_type": "code",
   "execution_count": 1,
   "id": "3b87ef2f-ad20-43f9-8ad2-04eed0677a18",
   "metadata": {},
   "outputs": [],
   "source": [
    "import pandas as pd\n",
    "import numpy as np\n",
    "import re"
   ]
  },
  {
   "cell_type": "code",
   "execution_count": 2,
   "id": "1b0c8a9c-18c1-4f4d-a840-805576c29812",
   "metadata": {},
   "outputs": [],
   "source": [
    "df = pd.read_csv('C:/Users/LShel/Downloads/words_corpus.csv')"
   ]
  },
  {
   "cell_type": "code",
   "execution_count": 3,
   "id": "693ff5f2-f025-4623-910c-9c5e3663c85d",
   "metadata": {},
   "outputs": [],
   "source": [
    "unique_words = np.unique(df['word'])"
   ]
  },
  {
   "cell_type": "code",
   "execution_count": 4,
   "id": "eae61d3a-2781-40e6-9a6b-0ba7d2ff4e74",
   "metadata": {},
   "outputs": [],
   "source": [
    "vocab_dict = {word: i for i, word in enumerate(unique_words)}"
   ]
  },
  {
   "cell_type": "code",
   "execution_count": 7,
   "id": "b0621d07-1c54-4b36-be5c-a038182a3dc6",
   "metadata": {},
   "outputs": [],
   "source": [
    "with open('C:/Users/LShel/OneDrive/Documents/SemanticSearch_Test/vocab.txt', \"w\", encoding=\"utf-8\") as f:\n",
    "    for word, index in vocab_dict.items():\n",
    "        f.write(f\"{word} {index}\\n\")"
   ]
  },
  {
   "cell_type": "code",
   "execution_count": null,
   "id": "c5978ee6-e618-48d9-bd8e-1854f637bdbe",
   "metadata": {},
   "outputs": [],
   "source": []
  }
 ],
 "metadata": {
  "kernelspec": {
   "display_name": "Python 3 (ipykernel)",
   "language": "python",
   "name": "python3"
  },
  "language_info": {
   "codemirror_mode": {
    "name": "ipython",
    "version": 3
   },
   "file_extension": ".py",
   "mimetype": "text/x-python",
   "name": "python",
   "nbconvert_exporter": "python",
   "pygments_lexer": "ipython3",
   "version": "3.11.7"
  }
 },
 "nbformat": 4,
 "nbformat_minor": 5
}
