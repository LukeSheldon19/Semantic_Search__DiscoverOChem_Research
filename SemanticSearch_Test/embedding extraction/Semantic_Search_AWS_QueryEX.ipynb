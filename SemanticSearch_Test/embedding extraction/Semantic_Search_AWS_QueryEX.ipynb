{
 "cells": [
  {
   "cell_type": "code",
   "execution_count": 3,
   "id": "29f1f533-b4b6-42f9-a793-578a89ba480a",
   "metadata": {},
   "outputs": [],
   "source": [
    "import boto3\n",
    "import json"
   ]
  },
  {
   "cell_type": "code",
   "execution_count": 6,
   "id": "86ee909a-9f1e-4af1-b12f-7fd6142e78a6",
   "metadata": {},
   "outputs": [],
   "source": [
    "bedrock = boto3.client(\n",
    "    service_name='bedrock-runtime',\n",
    "    aws_access_key_id='',\n",
    "    aws_secret_access_key='',\n",
    "    region_name='us-east-2'\n",
    ")"
   ]
  },
  {
   "cell_type": "code",
   "execution_count": 9,
   "id": "82aa1368-15b0-47a2-bc9f-2e5cee32b57e",
   "metadata": {},
   "outputs": [],
   "source": [
    "query = \"What is a functional group, and can you give examples of common functional groups in organic molecules\""
   ]
  },
  {
   "cell_type": "code",
   "execution_count": 12,
   "id": "190c7263-8de2-4ea9-a9f4-919c1ab2fea4",
   "metadata": {},
   "outputs": [],
   "source": [
    "body = json.dumps({\n",
    "    \"inputText\": query,\n",
    "})"
   ]
  },
  {
   "cell_type": "code",
   "execution_count": 15,
   "id": "4b5b6374-d83f-4e83-9cd5-9a5f14a2fe17",
   "metadata": {},
   "outputs": [],
   "source": [
    "model_id = 'amazon.titan-embed-text-v2:0'\n",
    "accept = 'application/json'\n",
    "content_type = 'application/json'"
   ]
  },
  {
   "cell_type": "code",
   "execution_count": 18,
   "id": "1bea4ff2-2c54-4421-b65d-8d30c92b6521",
   "metadata": {},
   "outputs": [],
   "source": [
    "response = bedrock.invoke_model(\n",
    "    body=body,\n",
    "    modelId=model_id,\n",
    "    accept=accept,\n",
    "    contentType=content_type\n",
    ")"
   ]
  },
  {
   "cell_type": "code",
   "execution_count": 21,
   "id": "180d5e6a-6892-4b71-ae40-28cffd898b70",
   "metadata": {},
   "outputs": [],
   "source": [
    "response_body = json.loads(response['body'].read())\n",
    "embedding = response_body.get('embedding')"
   ]
  },
  {
   "cell_type": "code",
   "execution_count": 23,
   "id": "cd4db307-c71f-4876-bc26-61957f3ac734",
   "metadata": {},
   "outputs": [],
   "source": [
    "# ------- #"
   ]
  },
  {
   "cell_type": "code",
   "execution_count": 26,
   "id": "c716c17e-6e1c-4e31-944c-f81b9335d714",
   "metadata": {},
   "outputs": [],
   "source": [
    "from pinecone import Pinecone, ServerlessSpec"
   ]
  },
  {
   "cell_type": "code",
   "execution_count": 29,
   "id": "8885b84f-a268-43cb-8801-b69f6164730e",
   "metadata": {},
   "outputs": [],
   "source": [
    "pc = Pinecone(api_key=\"\")"
   ]
  },
  {
   "cell_type": "code",
   "execution_count": 32,
   "id": "f4c17841-a65b-482a-8c9c-fbc03a916129",
   "metadata": {},
   "outputs": [],
   "source": [
    "index_name = \"semanticsearchaws\""
   ]
  },
  {
   "cell_type": "code",
   "execution_count": 35,
   "id": "571d6461-c09d-4adc-85eb-091c1fc03f73",
   "metadata": {},
   "outputs": [],
   "source": [
    "index = pc.Index(index_name)"
   ]
  },
  {
   "cell_type": "code",
   "execution_count": 38,
   "id": "441f799c-3bea-49df-8799-a951f8b277b0",
   "metadata": {},
   "outputs": [],
   "source": [
    "top_k = 5\n",
    "\n",
    "response = index.query(\n",
    "    vector=embedding,\n",
    "    top_k=top_k,\n",
    "    include_metadata=True \n",
    ")"
   ]
  },
  {
   "cell_type": "code",
   "execution_count": 41,
   "id": "4cfda967-fa5f-4ce0-8c30-51fabbe4cf81",
   "metadata": {},
   "outputs": [
    {
     "name": "stdout",
     "output_type": "stream",
     "text": [
      "Score: 0.790703416\n",
      "Page Number: 10284\n",
      "Sentence Text: We refer to these small groups of atoms as functional groups because they add particular types of functionality to a molecule\n",
      "----\n",
      "Score: 0.754117429\n",
      "Page Number: 10031\n",
      "Sentence Text: Thus far we have learned about a varity of functional groups such as alcohols ethers amines alkyl halides alkenes alkynes and carbonyls\n",
      "----\n",
      "Score: 0.655720055\n",
      "Page Number: 20360\n",
      "Sentence Text: As you know chemists define functional group families because the molecules in that group have properties that are similar to each other and different from molecules in other families\n",
      "----\n",
      "Score: 0.575343132\n",
      "Page Number: 20492\n",
      "Sentence Text: Throughout the course so far we have seen a variety of different functional group\n",
      "----\n",
      "Score: 0.558927119\n",
      "Page Number: 20109\n",
      "Sentence Text: This functional groups is not particularly common in organic chemistry but we will have to consider it in order to have a full discussion about methods for synthesizing amines\n",
      "----\n"
     ]
    }
   ],
   "source": [
    "for match in response['matches']:\n",
    "    print(f\"Score: {match['score']}\")\n",
    "    print(f\"Page Number: {match['metadata']['page_number']}\")\n",
    "    print(f\"Sentence Text: {match['metadata']['sentence_text']}\")\n",
    "    print(\"----\")"
   ]
  },
  {
   "cell_type": "code",
   "execution_count": null,
   "id": "768bcc7c-1e7d-4123-a648-67cee89c3363",
   "metadata": {},
   "outputs": [],
   "source": []
  }
 ],
 "metadata": {
  "kernelspec": {
   "display_name": "Python [conda env:base] *",
   "language": "python",
   "name": "conda-base-py"
  },
  "language_info": {
   "codemirror_mode": {
    "name": "ipython",
    "version": 3
   },
   "file_extension": ".py",
   "mimetype": "text/x-python",
   "name": "python",
   "nbconvert_exporter": "python",
   "pygments_lexer": "ipython3",
   "version": "3.12.7"
  }
 },
 "nbformat": 4,
 "nbformat_minor": 5
}
